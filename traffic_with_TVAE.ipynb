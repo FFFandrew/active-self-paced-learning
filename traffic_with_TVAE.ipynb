{
 "cells": [
  {
   "cell_type": "code",
   "execution_count": 1,
   "id": "68e63693",
   "metadata": {},
   "outputs": [],
   "source": [
    "from sdv.demo import load_tabular_demo\n",
    "import pandas as pd\n",
    "import numpy as np\n",
    "from sdv.tabular import TVAE\n",
    "from sdv.constraints import OneHotEncoding"
   ]
  },
  {
   "cell_type": "code",
   "execution_count": 2,
   "id": "749aa932",
   "metadata": {},
   "outputs": [],
   "source": [
    "# data = load_tabular_demo('student_placements')\n",
    "# data1 = pd.read_excel('Seattle_vv_21.xlsx')\n",
    "# a = pd.read_excel('Processed_Seattle_vv_21_modifiedbyFDR.xlsx',index_col=0)\n",
    "# a.to_csv('processed_seattle_vv_21.csv',encoding='utf-8')\n",
    "\n",
    "data1 = pd.read_csv('processed_seattle_vv_21.csv')\n",
    "data1 = data1.drop([\"UNDERINFLY\"],axis=1)\n",
    "data1 = data1.drop(['UNDERINFLN'],axis=1)\n",
    "data1 = pd.get_dummies(data1,columns=['Severity'],dtype=int)\n",
    "# data1.dtypes\n",
    "# data1.shape"
   ]
  },
  {
   "cell_type": "code",
   "execution_count": 4,
   "id": "d21ac19c",
   "metadata": {},
   "outputs": [
    {
     "data": {
      "text/plain": [
       "(100, 52)"
      ]
     },
     "execution_count": 4,
     "metadata": {},
     "output_type": "execute_result"
    }
   ],
   "source": [
    "\n",
    "\n",
    "# data = data1.sample(frac=0.3)\n",
    "data = data1.sample(n=100)\n",
    "# print(data.shape)\n",
    "# print(type(data))  #DataFrame\n",
    "\n",
    "# print(data.dtypes)\n",
    "\n",
    "data.shape"
   ]
  },
  {
   "cell_type": "code",
   "execution_count": 5,
   "id": "d90d43ca",
   "metadata": {},
   "outputs": [],
   "source": [
    "\n",
    "\n",
    "#这里是各种onehot的constraints\n",
    "addr_type_constraint = OneHotEncoding(\n",
    "    column_names=['ADDRTYPEAlley','ADDRTYPEBlock','ADDRTYPEIntersection']\n",
    ")\n",
    "\n",
    "collision_type_constraint = OneHotEncoding(\n",
    "    column_names=['COLLISIONTYPEAngles', 'COLLISIONTYPEHead.On', 'COLLISIONTYPELeft.Turn','COLLISIONTYPEParked.Car', 'COLLISIONTYPERear.Ended', 'COLLISIONTYPERight.Turn', 'COLLISIONTYPESideswipe']\n",
    ")\n",
    "\n",
    "month_constraint = OneHotEncoding(\n",
    "    column_names=['Month1', 'Month10', 'Month11', 'Month12', 'Month2', 'Month3', 'Month4', 'Month5','Month6', 'Month7', 'Month8', 'Month9']\n",
    ")\n",
    "\n",
    "time_in_day_constraint = OneHotEncoding(\n",
    "    column_names=['Timeevening_peak','Timemorning_peak', 'Timenon_peak']\n",
    ")\n",
    "\n",
    "# underinf_type_constraint = OneHotEncoding(  # 不知道什么意思\n",
    "#     column_names=['UNDERINFLN','UNDERINFLY']\n",
    "# )\n",
    "\n",
    "weather_condition_constraint = OneHotEncoding(\n",
    "    column_names=['WEATHERBlowing.Sand.Dirt', 'WEATHERBlowing.Snow',\n",
    "       'WEATHERClear', 'WEATHERFog.Smog.Smoke', 'WEATHEROvercast',\n",
    "       'WEATHERPartly.Cloudy', 'WEATHERRaining', 'WEATHERSevere.Crosswind',\n",
    "       'WEATHERSleet.Hail.Freezing.Rain', 'WEATHERSnowing']\n",
    ")\n",
    "\n",
    "road_condition_constraint = OneHotEncoding(\n",
    "    column_names=['ROADCONDDry',\n",
    "       'ROADCONDIce', 'ROADCONDOil', 'ROADCONDSand.Mud.Dirt',\n",
    "       'ROADCONDSnow.Slush', 'ROADCONDStanding.Water', 'ROADCONDWet']\n",
    ")\n",
    "\n",
    "light_condition_constraint = OneHotEncoding(\n",
    "    column_names=['LIGHTCONDDark...No.Street.Lights',\n",
    "       'LIGHTCONDDark...Street.Lights.Off', 'LIGHTCONDDark...Street.Lights.On',\n",
    "       'LIGHTCONDDawn', 'LIGHTCONDDaylight', 'LIGHTCONDDusk']\n",
    ")\n",
    "\n",
    "severity_condition_constraint = OneHotEncoding(\n",
    "    column_names=['Severity_Fatality Collision',\n",
    "       'Severity_Injury Collision', 'Severity_Property Damage Only Collision',\n",
    "       'Severity_Serious Injury Collision']\n",
    ")\n",
    "\n"
   ]
  },
  {
   "cell_type": "code",
   "execution_count": 6,
   "id": "c25a0b69",
   "metadata": {},
   "outputs": [],
   "source": [
    "constraints = [\n",
    "    month_constraint,\n",
    "    addr_type_constraint,\n",
    "    collision_type_constraint,\n",
    "    \n",
    "    time_in_day_constraint,\n",
    "#     underinf_type_constraint,\n",
    "    weather_condition_constraint,\n",
    "    road_condition_constraint,\n",
    "    light_condition_constraint,\n",
    "    severity_condition_constraint\n",
    "]\n",
    "model = TVAE(constraints=constraints, enforce_min_max_values=False)"
   ]
  },
  {
   "cell_type": "code",
   "execution_count": 12,
   "id": "f143311b",
   "metadata": {},
   "outputs": [
    {
     "name": "stdout",
     "output_type": "stream",
     "text": [
      "cost time =  5.798491954803467\n"
     ]
    }
   ],
   "source": [
    "import time\n",
    "import warnings\n",
    "warnings.filterwarnings(\"ignore\")\n",
    "t1 = time.time()\n",
    "model.fit(data)\n",
    "t2 = time.time()\n",
    "print('cost time = ',t2-t1)\n",
    "model.save('./GANmodel/TVAE_model_use_100.pkl')"
   ]
  },
  {
   "cell_type": "code",
   "execution_count": 14,
   "id": "25a8eefc",
   "metadata": {},
   "outputs": [],
   "source": [
    "load_model = TVAE.load('./GANmodel/TVAE_model_use_100.pkl')"
   ]
  },
  {
   "cell_type": "code",
   "execution_count": 17,
   "id": "78b08483",
   "metadata": {},
   "outputs": [
    {
     "name": "stderr",
     "output_type": "stream",
     "text": [
      "Sampling rows: 100%|████████████████████████████████████████████████████████████| 5000/5000 [00:00<00:00, 12530.95it/s]\n"
     ]
    },
    {
     "data": {
      "text/plain": [
       "(5000, 52)"
      ]
     },
     "execution_count": 17,
     "metadata": {},
     "output_type": "execute_result"
    }
   ],
   "source": [
    "generate_data_5k = load_model.sample(num_rows=5000)\n",
    "generate_data_5k.shape"
   ]
  },
  {
   "cell_type": "code",
   "execution_count": 18,
   "id": "1f6be33a",
   "metadata": {},
   "outputs": [],
   "source": [
    "generate_data_5000.to_csv('./GANmodel/data/100_to_5000.csv')"
   ]
  },
  {
   "cell_type": "code",
   "execution_count": 19,
   "id": "f0df1f05",
   "metadata": {},
   "outputs": [],
   "source": [
    "data.to_csv('./GANmodel/data/100.csv')"
   ]
  },
  {
   "cell_type": "code",
   "execution_count": 20,
   "id": "0e29e301",
   "metadata": {},
   "outputs": [
    {
     "name": "stderr",
     "output_type": "stream",
     "text": [
      "Sampling rows: 100%|██████████████████████████████████████████████████████████| 10000/10000 [00:00<00:00, 17823.51it/s]\n"
     ]
    },
    {
     "name": "stdout",
     "output_type": "stream",
     "text": [
      "(10000, 52)\n"
     ]
    }
   ],
   "source": [
    "generate_data_10000 = load_model.sample(num_rows=10000)\n",
    "print(generate_data_10000.shape)\n",
    "generate_data_10000.to_csv('./GANmodel/data/100_to_10000.csv')"
   ]
  },
  {
   "cell_type": "code",
   "execution_count": 21,
   "id": "e2d14c9e",
   "metadata": {},
   "outputs": [
    {
     "name": "stderr",
     "output_type": "stream",
     "text": [
      "Sampling rows: 100%|██████████████████████████████████████████████████████████| 20000/20000 [00:00<00:00, 22604.97it/s]\n"
     ]
    },
    {
     "name": "stdout",
     "output_type": "stream",
     "text": [
      "(20000, 52)\n"
     ]
    }
   ],
   "source": [
    "generate_data_20000 = load_model.sample(num_rows=20000)\n",
    "print(generate_data_20000.shape)\n",
    "generate_data_20000.to_csv('./GANmodel/data/100_to_20000.csv')"
   ]
  },
  {
   "cell_type": "code",
   "execution_count": null,
   "id": "071eff0f",
   "metadata": {},
   "outputs": [],
   "source": []
  },
  {
   "cell_type": "code",
   "execution_count": null,
   "id": "96b646bb",
   "metadata": {},
   "outputs": [],
   "source": []
  },
  {
   "cell_type": "code",
   "execution_count": 9,
   "id": "f6d50ee6",
   "metadata": {},
   "outputs": [
    {
     "data": {
      "text/plain": [
       "0.9448109983549045"
      ]
     },
     "execution_count": 9,
     "metadata": {},
     "output_type": "execute_result"
    }
   ],
   "source": [
    "from sdv.evaluation import evaluate\n",
    "evaluate(new_data,data)"
   ]
  },
  {
   "cell_type": "code",
   "execution_count": 10,
   "id": "d0ae44eb",
   "metadata": {},
   "outputs": [
    {
     "data": {
      "text/plain": [
       "ADDRTYPEAlley                                 9\n",
       "ADDRTYPEBlock                              2163\n",
       "ADDRTYPEIntersection                       1709\n",
       "COLLISIONTYPEAngles                        1021\n",
       "COLLISIONTYPEHead.On                         98\n",
       "COLLISIONTYPELeft.Turn                      374\n",
       "COLLISIONTYPEParked.Car                    1108\n",
       "COLLISIONTYPERear.Ended                     758\n",
       "COLLISIONTYPERight.Turn                      64\n",
       "COLLISIONTYPESideswipe                      458\n",
       "Month1                                      300\n",
       "Month10                                     409\n",
       "Month11                                      10\n",
       "Month12                                       5\n",
       "Month2                                      286\n",
       "Month3                                      373\n",
       "Month4                                      358\n",
       "Month5                                      415\n",
       "Month6                                      439\n",
       "Month7                                      470\n",
       "Month8                                      396\n",
       "Month9                                      420\n",
       "Timeevening_peak                            478\n",
       "Timemorning_peak                            309\n",
       "Timenon_peak                               3094\n",
       "WEATHERBlowing.Sand.Dirt                      0\n",
       "WEATHERBlowing.Snow                           0\n",
       "WEATHERClear                               2751\n",
       "WEATHERFog.Smog.Smoke                         8\n",
       "WEATHEROvercast                             619\n",
       "WEATHERPartly.Cloudy                          7\n",
       "WEATHERRaining                              467\n",
       "WEATHERSevere.Crosswind                       1\n",
       "WEATHERSleet.Hail.Freezing.Rain               1\n",
       "WEATHERSnowing                               27\n",
       "ROADCONDDry                                3136\n",
       "ROADCONDIce                                   3\n",
       "ROADCONDOil                                   0\n",
       "ROADCONDSand.Mud.Dirt                         1\n",
       "ROADCONDSnow.Slush                           27\n",
       "ROADCONDStanding.Water                        1\n",
       "ROADCONDWet                                 713\n",
       "LIGHTCONDDark...No.Street.Lights             22\n",
       "LIGHTCONDDark...Street.Lights.Off            17\n",
       "LIGHTCONDDark...Street.Lights.On            906\n",
       "LIGHTCONDDawn                                47\n",
       "LIGHTCONDDaylight                          2763\n",
       "LIGHTCONDDusk                               126\n",
       "Severity_Fatality Collision                   2\n",
       "Severity_Injury Collision                  1139\n",
       "Severity_Property Damage Only Collision    2676\n",
       "Severity_Serious Injury Collision            64\n",
       "dtype: int64"
      ]
     },
     "execution_count": 10,
     "metadata": {},
     "output_type": "execute_result"
    }
   ],
   "source": [
    "data.sum()"
   ]
  },
  {
   "cell_type": "code",
   "execution_count": 11,
   "id": "fd599fa4",
   "metadata": {},
   "outputs": [
    {
     "data": {
      "text/plain": [
       "ADDRTYPEAlley                                40\n",
       "ADDRTYPEBlock                              5445\n",
       "ADDRTYPEIntersection                       4515\n",
       "COLLISIONTYPEAngles                        6324\n",
       "COLLISIONTYPEHead.On                          0\n",
       "COLLISIONTYPELeft.Turn                       70\n",
       "COLLISIONTYPEParked.Car                    2320\n",
       "COLLISIONTYPERear.Ended                    1137\n",
       "COLLISIONTYPERight.Turn                       0\n",
       "COLLISIONTYPESideswipe                      149\n",
       "Month1                                     9083\n",
       "Month10                                       0\n",
       "Month11                                       0\n",
       "Month12                                       0\n",
       "Month2                                        0\n",
       "Month3                                        0\n",
       "Month4                                        0\n",
       "Month5                                        0\n",
       "Month6                                       96\n",
       "Month7                                      821\n",
       "Month8                                        0\n",
       "Month9                                        0\n",
       "Timeevening_peak                           1131\n",
       "Timemorning_peak                            728\n",
       "Timenon_peak                               8141\n",
       "WEATHERBlowing.Sand.Dirt                    824\n",
       "WEATHERBlowing.Snow                           0\n",
       "WEATHERClear                               6928\n",
       "WEATHERFog.Smog.Smoke                         0\n",
       "WEATHEROvercast                            1504\n",
       "WEATHERPartly.Cloudy                          0\n",
       "WEATHERRaining                              741\n",
       "WEATHERSevere.Crosswind                       0\n",
       "WEATHERSleet.Hail.Freezing.Rain               0\n",
       "WEATHERSnowing                                3\n",
       "ROADCONDDry                                8317\n",
       "ROADCONDIce                                   0\n",
       "ROADCONDOil                                   0\n",
       "ROADCONDSand.Mud.Dirt                         0\n",
       "ROADCONDSnow.Slush                            8\n",
       "ROADCONDStanding.Water                        0\n",
       "ROADCONDWet                                1675\n",
       "LIGHTCONDDark...No.Street.Lights            754\n",
       "LIGHTCONDDark...Street.Lights.Off             0\n",
       "LIGHTCONDDark...Street.Lights.On           2197\n",
       "LIGHTCONDDawn                                 0\n",
       "LIGHTCONDDaylight                          7045\n",
       "LIGHTCONDDusk                                 4\n",
       "Severity_Fatality Collision                 296\n",
       "Severity_Injury Collision                  2895\n",
       "Severity_Property Damage Only Collision    6809\n",
       "Severity_Serious Injury Collision             0\n",
       "dtype: int64"
      ]
     },
     "execution_count": 11,
     "metadata": {},
     "output_type": "execute_result"
    }
   ],
   "source": [
    "new_data.sum()"
   ]
  },
  {
   "cell_type": "code",
   "execution_count": 10,
   "id": "b408ffaf",
   "metadata": {},
   "outputs": [
    {
     "data": {
      "text/plain": [
       "0.9477444354151388"
      ]
     },
     "execution_count": 10,
     "metadata": {},
     "output_type": "execute_result"
    }
   ],
   "source": [
    "from sdv.evaluation import evaluate\n",
    "evaluate(new_data,data)"
   ]
  },
  {
   "cell_type": "code",
   "execution_count": 11,
   "id": "fb7464a4",
   "metadata": {},
   "outputs": [
    {
     "name": "stdout",
     "output_type": "stream",
     "text": [
      "Index(['ADDRTYPEAlley', 'ADDRTYPEBlock', 'ADDRTYPEIntersection',\n",
      "       'COLLISIONTYPEAngles', 'COLLISIONTYPEHead.On', 'COLLISIONTYPELeft.Turn',\n",
      "       'COLLISIONTYPEParked.Car', 'COLLISIONTYPERear.Ended',\n",
      "       'COLLISIONTYPERight.Turn', 'COLLISIONTYPESideswipe', 'Month1',\n",
      "       'Month10', 'Month11', 'Month12', 'Month2', 'Month3', 'Month4', 'Month5',\n",
      "       'Month6', 'Month7', 'Month8', 'Month9', 'Timeevening_peak',\n",
      "       'Timemorning_peak', 'Timenon_peak', 'WEATHERBlowing.Sand.Dirt',\n",
      "       'WEATHERBlowing.Snow', 'WEATHERClear', 'WEATHERFog.Smog.Smoke',\n",
      "       'WEATHEROvercast', 'WEATHERPartly.Cloudy', 'WEATHERRaining',\n",
      "       'WEATHERSevere.Crosswind', 'WEATHERSleet.Hail.Freezing.Rain',\n",
      "       'WEATHERSnowing', 'ROADCONDDry', 'ROADCONDIce', 'ROADCONDOil',\n",
      "       'ROADCONDSand.Mud.Dirt', 'ROADCONDSnow.Slush', 'ROADCONDStanding.Water',\n",
      "       'ROADCONDWet', 'LIGHTCONDDark...No.Street.Lights',\n",
      "       'LIGHTCONDDark...Street.Lights.Off', 'LIGHTCONDDark...Street.Lights.On',\n",
      "       'LIGHTCONDDawn', 'LIGHTCONDDaylight', 'LIGHTCONDDusk',\n",
      "       'Severity_Fatality Collision', 'Severity_Injury Collision',\n",
      "       'Severity_Property Damage Only Collision',\n",
      "       'Severity_Serious Injury Collision'],\n",
      "      dtype='object')\n"
     ]
    }
   ],
   "source": [
    "print(data.columns)"
   ]
  },
  {
   "cell_type": "code",
   "execution_count": 34,
   "id": "5600597f",
   "metadata": {},
   "outputs": [
    {
     "name": "stdout",
     "output_type": "stream",
     "text": [
      "0.002577319587628866\n",
      "0.5549828178694158\n",
      "0.4424398625429553\n",
      "--------------------------------------------------\n",
      "0.006132440092759598\n",
      "0.5909817057459418\n",
      "0.40288585416129863\n"
     ]
    },
    {
     "data": {
      "text/plain": [
       "'\\ndf = pd.DataFrame({\"id\":[1001,1002,1003,1004,1005,1006], \\n \"date\":pd.date_range(\\'20130102\\', periods=6),\\n  \"city\":[\\'Beijing \\', \\'SH\\', \\' guangzhou \\', \\'Shenzhen\\', \\'shanghai\\', \\'BEIJING \\'],\\n \"age\":[23,44,54,32,34,32],\\n \"category\":[\\'100-A\\',\\'100-B\\',\\'110-A\\',\\'110-C\\',\\'210-A\\',\\'130-F\\'],\\n  \"price\":[1200,np.nan,2133,5433,np.nan,4432]},\\n  columns =[\\'id\\',\\'date\\',\\'city\\',\\'category\\',\\'age\\',\\'price\\'])\\n\\n'"
      ]
     },
     "execution_count": 34,
     "metadata": {},
     "output_type": "execute_result"
    }
   ],
   "source": [
    "print(data['ADDRTYPEAlley'].sum()/len(data))\n",
    "print(data['ADDRTYPEBlock'].sum()/len(data))\n",
    "print(data['ADDRTYPEIntersection'].sum()/len(data))\n",
    "print(50*'-')\n",
    "print(new_data['ADDRTYPEAlley'].sum()/len(new_data))\n",
    "print(new_data['ADDRTYPEBlock'].sum()/len(new_data))\n",
    "print(new_data['ADDRTYPEIntersection'].sum()/len(new_data))\n",
    "\n",
    "'''\n",
    "使用全部数据\n",
    "\n",
    "0.0023189899510435456\n",
    "0.5573305849007988\n",
    "0.4403504251481577\n",
    "--------------------------------------------------\n",
    "0.0056686421025508886\n",
    "0.5485699561968564\n",
    "0.44576140170059264\n",
    "\n",
    "可以看出，ADDRTYPE  的分布还是基本符合\n",
    "\n",
    "'''\n",
    "\n",
    "'''\n",
    "df = pd.DataFrame({\"id\":[1001,1002,1003,1004,1005,1006], \n",
    " \"date\":pd.date_range('20130102', periods=6),\n",
    "  \"city\":['Beijing ', 'SH', ' guangzhou ', 'Shenzhen', 'shanghai', 'BEIJING '],\n",
    " \"age\":[23,44,54,32,34,32],\n",
    " \"category\":['100-A','100-B','110-A','110-C','210-A','130-F'],\n",
    "  \"price\":[1200,np.nan,2133,5433,np.nan,4432]},\n",
    "  columns =['id','date','city','category','age','price'])\n",
    "\n",
    "'''\n",
    "# df = pd.DataFrame()\n",
    "# df['ADDRTYPEAlley']=data['ADDRTYPEAlley'].sum()\n",
    "# df['ADDRTYPEBlock']=data['ADDRTYPEBlock'].sum()\n",
    "# df['ADDRTYPEIntersection']=data['ADDRTYPEIntersection'].sum()\n",
    "# print(df)\n",
    "# df.hist()"
   ]
  },
  {
   "cell_type": "code",
   "execution_count": 35,
   "id": "3e136f12",
   "metadata": {},
   "outputs": [
    {
     "name": "stdout",
     "output_type": "stream",
     "text": [
      "0.27405498281786944\n",
      "0.02577319587628866\n",
      "0.08161512027491409\n",
      "0.29381443298969073\n",
      "0.18298969072164947\n",
      "0.018900343642611683\n",
      "0.12285223367697594\n",
      "--------------------------------------------------\n",
      "0.8988920381345015\n",
      "0.0\n",
      "0.0\n",
      "0.10110796186549859\n",
      "0.0\n",
      "0.0\n",
      "0.0\n"
     ]
    },
    {
     "data": {
      "text/plain": [
       "'\\n使用全部数据\\n\\n0.26307652666838444\\n0.02525122391136305\\n0.09636691574336512\\n0.28549342952847206\\n0.19531048698788972\\n0.01649059520742077\\n0.11801082195310487\\n--------------------------------------------------\\n0.5704715279567122\\n0.0\\n0.014171605256377222\\n0.22597268745168772\\n0.1499613501674826\\n0.0\\n0.03942282916774027\\n\\n略有差距，但仍能接收\\n\\n'"
      ]
     },
     "execution_count": 35,
     "metadata": {},
     "output_type": "execute_result"
    }
   ],
   "source": [
    "print(data['COLLISIONTYPEAngles'].sum()/len(data))\n",
    "print(data['COLLISIONTYPEHead.On'].sum()/len(data))\n",
    "print(data['COLLISIONTYPELeft.Turn'].sum()/len(data))\n",
    "print(data['COLLISIONTYPEParked.Car'].sum()/len(data))\n",
    "print(data['COLLISIONTYPERear.Ended'].sum()/len(data))\n",
    "print(data['COLLISIONTYPERight.Turn'].sum()/len(data))\n",
    "print(data['COLLISIONTYPESideswipe'].sum()/len(data))\n",
    "print(50*'-')\n",
    "print(new_data['COLLISIONTYPEAngles'].sum()/len(new_data))\n",
    "print(new_data['COLLISIONTYPEHead.On'].sum()/len(new_data))\n",
    "print(new_data['COLLISIONTYPELeft.Turn'].sum()/len(new_data))\n",
    "print(new_data['COLLISIONTYPEParked.Car'].sum()/len(new_data))\n",
    "print(new_data['COLLISIONTYPERear.Ended'].sum()/len(new_data))\n",
    "print(new_data['COLLISIONTYPERight.Turn'].sum()/len(new_data))\n",
    "print(new_data['COLLISIONTYPESideswipe'].sum()/len(new_data))\n",
    "\n",
    "'''\n",
    "使用全部数据\n",
    "\n",
    "0.26307652666838444\n",
    "0.02525122391136305\n",
    "0.09636691574336512\n",
    "0.28549342952847206\n",
    "0.19531048698788972\n",
    "0.01649059520742077\n",
    "0.11801082195310487\n",
    "--------------------------------------------------\n",
    "0.5704715279567122\n",
    "0.0\n",
    "0.014171605256377222\n",
    "0.22597268745168772\n",
    "0.1499613501674826\n",
    "0.0\n",
    "0.03942282916774027\n",
    "\n",
    "略有差距，但仍能接收\n",
    "\n",
    "'''"
   ]
  },
  {
   "cell_type": "code",
   "execution_count": 199,
   "id": "86606ede",
   "metadata": {},
   "outputs": [
    {
     "name": "stdout",
     "output_type": "stream",
     "text": [
      "0.07729966503478485\n",
      "0.07369234733316156\n",
      "0.09610925019324916\n",
      "0.09224426694150992\n",
      "0.10693120329811905\n",
      "0.11311517650090183\n",
      "0.12110280855449626\n",
      "0.102035557845916\n",
      "0.10821953104869879\n",
      "0.10538520999742335\n",
      "0.002576655501159495\n",
      "0.0012883277505797476\n",
      "--------------------------------------------------\n",
      "0.8737438804431847\n",
      "0.0\n",
      "0.0\n",
      "0.0\n",
      "0.0\n",
      "0.024220561710899254\n",
      "0.102035557845916\n",
      "0.0\n",
      "0.0\n",
      "0.0\n",
      "0.0\n",
      "0.0\n"
     ]
    }
   ],
   "source": [
    "print(data['Month1'].sum()/len(data))\n",
    "print(data['Month2'].sum()/len(data))\n",
    "print(data['Month3'].sum()/len(data))\n",
    "print(data['Month4'].sum()/len(data))\n",
    "print(data['Month5'].sum()/len(data))\n",
    "print(data['Month6'].sum()/len(data))\n",
    "print(data['Month7'].sum()/len(data))\n",
    "print(data['Month8'].sum()/len(data))\n",
    "print(data['Month9'].sum()/len(data))\n",
    "print(data['Month10'].sum()/len(data))\n",
    "print(data['Month11'].sum()/len(data))\n",
    "print(data['Month12'].sum()/len(data))\n",
    "print(50*'-')\n",
    "print(new_data['Month1'].sum()/len(data))\n",
    "print(new_data['Month2'].sum()/len(data))\n",
    "print(new_data['Month3'].sum()/len(data))\n",
    "print(new_data['Month4'].sum()/len(data))\n",
    "print(new_data['Month5'].sum()/len(data))\n",
    "print(new_data['Month6'].sum()/len(data))\n",
    "print(new_data['Month7'].sum()/len(data))\n",
    "print(new_data['Month8'].sum()/len(data))\n",
    "print(new_data['Month9'].sum()/len(data))\n",
    "print(new_data['Month10'].sum()/len(data))\n",
    "print(new_data['Month11'].sum()/len(data))\n",
    "print(new_data['Month12'].sum()/len(data))\n",
    "\n",
    "'''\n",
    "使用全部数据\n",
    "0.07729966503478485\n",
    "0.07369234733316156\n",
    "0.09610925019324916\n",
    "0.09224426694150992\n",
    "0.10693120329811905\n",
    "0.11311517650090183\n",
    "0.12110280855449626\n",
    "0.102035557845916\n",
    "0.10821953104869879\n",
    "0.10538520999742335\n",
    "0.002576655501159495\n",
    "0.0012883277505797476\n",
    "--------------------------------------------------\n",
    "0.8737438804431847\n",
    "0.0\n",
    "0.0\n",
    "0.0\n",
    "0.0\n",
    "0.024220561710899254\n",
    "0.102035557845916\n",
    "0.0\n",
    "0.0\n",
    "0.0\n",
    "0.0\n",
    "0.0\n",
    "有点难受\n",
    "\n",
    "初步怀疑是向量维数过大？\n",
    "\n",
    "\n",
    "'''"
   ]
  },
  {
   "cell_type": "code",
   "execution_count": 36,
   "id": "3c52fa80",
   "metadata": {},
   "outputs": [
    {
     "name": "stdout",
     "output_type": "stream",
     "text": [
      "0.13144329896907217\n",
      "0.08333333333333333\n",
      "0.7852233676975945\n",
      "--------------------------------------------------\n",
      "0.0\n",
      "0.0\n",
      "1.0\n"
     ]
    },
    {
     "data": {
      "text/plain": [
       "'\\n使用全部数据\\n\\n0.12316413295542386\\n0.07961865498582839\\n0.7972172120587477\\n--------------------------------------------------\\n0.1520226745684102\\n0.06415872197887143\\n0.7838186034527184\\n\\n基本符合\\n\\n\\n'"
      ]
     },
     "execution_count": 36,
     "metadata": {},
     "output_type": "execute_result"
    }
   ],
   "source": [
    "# 'Timeevening_peak','Timemorning_peak', 'Timenon_peak',\n",
    "print(data['Timeevening_peak'].sum()/len(data))\n",
    "print(data['Timemorning_peak'].sum()/len(data))\n",
    "print(data['Timenon_peak'].sum()/len(data))\n",
    "print(50*'-')\n",
    "print(new_data['Timeevening_peak'].sum()/len(new_data))\n",
    "print(new_data['Timemorning_peak'].sum()/len(new_data))\n",
    "print(new_data['Timenon_peak'].sum()/len(new_data))\n",
    "\n",
    "'''\n",
    "使用全部数据\n",
    "\n",
    "0.12316413295542386\n",
    "0.07961865498582839\n",
    "0.7972172120587477\n",
    "--------------------------------------------------\n",
    "0.1520226745684102\n",
    "0.06415872197887143\n",
    "0.7838186034527184\n",
    "\n",
    "基本符合\n",
    "\n",
    "\n",
    "'''"
   ]
  },
  {
   "cell_type": "code",
   "execution_count": 37,
   "id": "de7fe7d4",
   "metadata": {},
   "outputs": [
    {
     "name": "stdout",
     "output_type": "stream",
     "text": [
      "0.0\n",
      "0.0\n",
      "0.7173539518900344\n",
      "0.000859106529209622\n",
      "0.16323024054982818\n",
      "0.0\n",
      "0.11426116838487972\n",
      "0.0\n",
      "0.0\n",
      "0.00429553264604811\n",
      "--------------------------------------------------\n",
      "0.20633857253285237\n",
      "0.0\n",
      "0.7402988920381345\n",
      "0.0\n",
      "0.009353259469208966\n",
      "0.0\n",
      "0.044009275959804174\n",
      "0.0\n",
      "0.0\n",
      "0.0\n"
     ]
    },
    {
     "data": {
      "text/plain": [
       "'\\n使用全部数据\\n0.0\\n0.0\\n0.7088379283689771\\n0.002061324400927596\\n0.15949497552177275\\n0.0018036588508116465\\n0.12032981190414842\\n0.0002576655501159495\\n0.0002576655501159495\\n0.006956969853130637\\n--------------------------------------------------\\n0.04019582581808812\\n0.0\\n0.6565318216954393\\n0.0\\n0.21824272094820923\\n0.0\\n0.08502963153826333\\n0.0\\n0.0\\n0.0\\n\\n我其实还好呜呜呜\\n'"
      ]
     },
     "execution_count": 37,
     "metadata": {},
     "output_type": "execute_result"
    }
   ],
   "source": [
    "'''\n",
    "'WEATHERBlowing.Sand.Dirt',\n",
    "       'WEATHERBlowing.Snow', 'WEATHERClear', 'WEATHERFog.Smog.Smoke',\n",
    "       'WEATHEROvercast', 'WEATHERPartly.Cloudy', 'WEATHERRaining',\n",
    "       'WEATHERSevere.Crosswind', 'WEATHERSleet.Hail.Freezing.Rain',\n",
    "       'WEATHERSnowing',\n",
    "'''\n",
    "print(data['WEATHERBlowing.Sand.Dirt'].sum()/len(data))\n",
    "print(data['WEATHERBlowing.Snow'].sum()/len(data))\n",
    "print(data['WEATHERClear'].sum()/len(data))\n",
    "print(data['WEATHERFog.Smog.Smoke'].sum()/len(data))\n",
    "print(data['WEATHEROvercast'].sum()/len(data))\n",
    "print(data['WEATHERPartly.Cloudy'].sum()/len(data))\n",
    "print(data['WEATHERRaining'].sum()/len(data))\n",
    "print(data['WEATHERSevere.Crosswind'].sum()/len(data))\n",
    "print(data['WEATHERSleet.Hail.Freezing.Rain'].sum()/len(data))\n",
    "print(data['WEATHERSnowing'].sum()/len(data))\n",
    "\n",
    "print(50*'-')\n",
    "print(new_data['WEATHERBlowing.Sand.Dirt'].sum()/len(new_data))\n",
    "print(new_data['WEATHERBlowing.Snow'].sum()/len(new_data))\n",
    "print(new_data['WEATHERClear'].sum()/len(new_data))\n",
    "print(new_data['WEATHERFog.Smog.Smoke'].sum()/len(new_data))\n",
    "print(new_data['WEATHEROvercast'].sum()/len(new_data))\n",
    "print(new_data['WEATHERPartly.Cloudy'].sum()/len(new_data))\n",
    "print(new_data['WEATHERRaining'].sum()/len(new_data))\n",
    "print(new_data['WEATHERSevere.Crosswind'].sum()/len(new_data))\n",
    "print(new_data['WEATHERSleet.Hail.Freezing.Rain'].sum()/len(new_data))\n",
    "print(new_data['WEATHERSnowing'].sum()/len(new_data))\n",
    "\n",
    "'''\n",
    "使用全部数据\n",
    "0.0\n",
    "0.0\n",
    "0.7088379283689771\n",
    "0.002061324400927596\n",
    "0.15949497552177275\n",
    "0.0018036588508116465\n",
    "0.12032981190414842\n",
    "0.0002576655501159495\n",
    "0.0002576655501159495\n",
    "0.006956969853130637\n",
    "--------------------------------------------------\n",
    "0.04019582581808812\n",
    "0.0\n",
    "0.6565318216954393\n",
    "0.0\n",
    "0.21824272094820923\n",
    "0.0\n",
    "0.08502963153826333\n",
    "0.0\n",
    "0.0\n",
    "0.0\n",
    "\n",
    "我其实还好呜呜呜\n",
    "'''\n"
   ]
  },
  {
   "cell_type": "code",
   "execution_count": 38,
   "id": "7b3434c3",
   "metadata": {},
   "outputs": [
    {
     "name": "stdout",
     "output_type": "stream",
     "text": [
      "0.8109965635738832\n",
      "0.000859106529209622\n",
      "0.0\n",
      "0.0\n",
      "0.003436426116838488\n",
      "0.0\n",
      "0.18470790378006874\n",
      "--------------------------------------------------\n",
      "0.8651893841793352\n",
      "0.0\n",
      "0.0\n",
      "0.0\n",
      "0.0\n",
      "0.0\n",
      "0.13481061582066478\n"
     ]
    },
    {
     "data": {
      "text/plain": [
       "'\\n使用全部数据\\n0.8080391651636176\\n0.0007729966503478485\\n0.0\\n0.0002576655501159495\\n0.006956969853130637\\n0.0002576655501159495\\n0.183715537232672\\n--------------------------------------------------\\n0.8281370780726617\\n0.0\\n0.0\\n0.0\\n0.0\\n0.0\\n0.17186292192733832\\n\\n感觉还行\\n\\n'"
      ]
     },
     "execution_count": 38,
     "metadata": {},
     "output_type": "execute_result"
    }
   ],
   "source": [
    "'''\n",
    "'ROADCONDDry', 'ROADCONDIce', 'ROADCONDOil',\n",
    "       'ROADCONDSand.Mud.Dirt', 'ROADCONDSnow.Slush', 'ROADCONDStanding.Water',\n",
    "       'ROADCONDWet',\n",
    "'''\n",
    "\n",
    "print(data['ROADCONDDry'].sum()/len(data))\n",
    "print(data['ROADCONDIce'].sum()/len(data))\n",
    "print(data['ROADCONDOil'].sum()/len(data))\n",
    "print(data['ROADCONDSand.Mud.Dirt'].sum()/len(data))\n",
    "print(data['ROADCONDSnow.Slush'].sum()/len(data))\n",
    "print(data['ROADCONDStanding.Water'].sum()/len(data))\n",
    "print(data['ROADCONDWet'].sum()/len(data))\n",
    "\n",
    "\n",
    "print(50*'-')\n",
    "print(new_data['ROADCONDDry'].sum()/len(new_data))\n",
    "print(new_data['ROADCONDIce'].sum()/len(new_data))\n",
    "print(new_data['ROADCONDOil'].sum()/len(new_data))\n",
    "print(new_data['ROADCONDSand.Mud.Dirt'].sum()/len(new_data))\n",
    "print(new_data['ROADCONDSnow.Slush'].sum()/len(new_data))\n",
    "print(new_data['ROADCONDStanding.Water'].sum()/len(new_data))\n",
    "print(new_data['ROADCONDWet'].sum()/len(new_data))\n",
    "\n",
    "'''\n",
    "使用全部数据\n",
    "0.8080391651636176\n",
    "0.0007729966503478485\n",
    "0.0\n",
    "0.0002576655501159495\n",
    "0.006956969853130637\n",
    "0.0002576655501159495\n",
    "0.183715537232672\n",
    "--------------------------------------------------\n",
    "0.8281370780726617\n",
    "0.0\n",
    "0.0\n",
    "0.0\n",
    "0.0\n",
    "0.0\n",
    "0.17186292192733832\n",
    "\n",
    "感觉还行\n",
    "\n",
    "'''\n"
   ]
  },
  {
   "cell_type": "code",
   "execution_count": 39,
   "id": "5fd8ef8c",
   "metadata": {},
   "outputs": [
    {
     "name": "stdout",
     "output_type": "stream",
     "text": [
      "0.00859106529209622\n",
      "0.005154639175257732\n",
      "0.24484536082474226\n",
      "0.012027491408934709\n",
      "0.6915807560137457\n",
      "0.037800687285223365\n",
      "--------------------------------------------------\n",
      "0.0984540066993043\n",
      "0.0\n",
      "0.021308940994589024\n",
      "0.0\n",
      "0.8802370523061067\n",
      "0.0\n"
     ]
    },
    {
     "data": {
      "text/plain": [
       "'\\n使用全部数据\\n0.0056686421025508886\\n0.004380314351971141\\n0.23344498840505024\\n0.012110280855449627\\n0.7119299149703685\\n0.03246585931460964\\n--------------------------------------------------\\n0.07188868848234992\\n0.0\\n0.22313836640041226\\n0.0\\n0.7023962896160784\\n0.002576655501159495\\n\\n感觉还行\\n\\n'"
      ]
     },
     "execution_count": 39,
     "metadata": {},
     "output_type": "execute_result"
    }
   ],
   "source": [
    "'''\n",
    "'LIGHTCONDDark...No.Street.Lights',\n",
    "       'LIGHTCONDDark...Street.Lights.Off', 'LIGHTCONDDark...Street.Lights.On',\n",
    "       'LIGHTCONDDawn', 'LIGHTCONDDaylight', 'LIGHTCONDDusk',\n",
    "'''\n",
    "\n",
    "print(data['LIGHTCONDDark...No.Street.Lights'].sum()/len(data))\n",
    "print(data['LIGHTCONDDark...Street.Lights.Off'].sum()/len(data))\n",
    "print(data['LIGHTCONDDark...Street.Lights.On'].sum()/len(data))\n",
    "print(data['LIGHTCONDDawn'].sum()/len(data))\n",
    "print(data['LIGHTCONDDaylight'].sum()/len(data))\n",
    "print(data['LIGHTCONDDusk'].sum()/len(data))\n",
    "\n",
    "\n",
    "\n",
    "print(50*'-')\n",
    "print(new_data['LIGHTCONDDark...No.Street.Lights'].sum()/len(new_data))\n",
    "print(new_data['LIGHTCONDDark...Street.Lights.Off'].sum()/len(new_data))\n",
    "print(new_data['LIGHTCONDDark...Street.Lights.On'].sum()/len(new_data))\n",
    "print(new_data['LIGHTCONDDawn'].sum()/len(new_data))\n",
    "print(new_data['LIGHTCONDDaylight'].sum()/len(new_data))\n",
    "print(new_data['LIGHTCONDDusk'].sum()/len(new_data))\n",
    "\n",
    "'''\n",
    "使用全部数据\n",
    "0.0056686421025508886\n",
    "0.004380314351971141\n",
    "0.23344498840505024\n",
    "0.012110280855449627\n",
    "0.7119299149703685\n",
    "0.03246585931460964\n",
    "--------------------------------------------------\n",
    "0.07188868848234992\n",
    "0.0\n",
    "0.22313836640041226\n",
    "0.0\n",
    "0.7023962896160784\n",
    "0.002576655501159495\n",
    "\n",
    "感觉还行\n",
    "\n",
    "'''\n",
    "\n"
   ]
  },
  {
   "cell_type": "code",
   "execution_count": 207,
   "id": "4ad98919",
   "metadata": {},
   "outputs": [
    {
     "name": "stdout",
     "output_type": "stream",
     "text": [
      "0.000515331100231899\n",
      "0.2934810615820665\n",
      "0.6895130121102808\n",
      "0.01649059520742077\n",
      "--------------------------------------------------\n",
      "0.03323885596495749\n",
      "0.2638495233187323\n",
      "0.7029116207163102\n",
      "0.0\n"
     ]
    }
   ],
   "source": [
    "'''\n",
    "'Severity_Fatality Collision', 'Severity_Injury Collision',\n",
    "       'Severity_Property Damage Only Collision',\n",
    "       'Severity_Serious Injury Collision'\n",
    "'''\n",
    "print(data['Severity_Fatality Collision'].sum()/len(data))\n",
    "print(data['Severity_Injury Collision'].sum()/len(data))\n",
    "print(data['Severity_Property Damage Only Collision'].sum()/len(data))\n",
    "print(data['Severity_Serious Injury Collision'].sum()/len(data))\n",
    "\n",
    "\n",
    "\n",
    "\n",
    "print(50*'-')\n",
    "print(new_data['Severity_Fatality Collision'].sum()/len(data))\n",
    "print(new_data['Severity_Injury Collision'].sum()/len(data))\n",
    "print(new_data['Severity_Property Damage Only Collision'].sum()/len(data))\n",
    "print(new_data['Severity_Serious Injury Collision'].sum()/len(data))\n",
    "\n",
    "'''\n",
    "使用全部数据\n",
    "0.000515331100231899\n",
    "0.2934810615820665\n",
    "0.6895130121102808\n",
    "0.01649059520742077\n",
    "--------------------------------------------------\n",
    "0.03323885596495749\n",
    "0.2638495233187323\n",
    "0.7029116207163102\n",
    "0.0\n",
    "\n",
    "感觉能接受\n",
    "\n",
    "\n",
    "'''\n"
   ]
  },
  {
   "cell_type": "code",
   "execution_count": 10,
   "id": "0a9b926d",
   "metadata": {},
   "outputs": [
    {
     "data": {
      "text/plain": [
       "ADDRTYPEAlley                              0.002319\n",
       "ADDRTYPEBlock                              0.557331\n",
       "ADDRTYPEIntersection                       0.440350\n",
       "COLLISIONTYPEAngles                        0.263077\n",
       "COLLISIONTYPEHead.On                       0.025251\n",
       "COLLISIONTYPELeft.Turn                     0.096367\n",
       "COLLISIONTYPEParked.Car                    0.285493\n",
       "COLLISIONTYPERear.Ended                    0.195310\n",
       "COLLISIONTYPERight.Turn                    0.016491\n",
       "COLLISIONTYPESideswipe                     0.118011\n",
       "Month1                                     0.077300\n",
       "Month10                                    0.105385\n",
       "Month11                                    0.002577\n",
       "Month12                                    0.001288\n",
       "Month2                                     0.073692\n",
       "Month3                                     0.096109\n",
       "Month4                                     0.092244\n",
       "Month5                                     0.106931\n",
       "Month6                                     0.113115\n",
       "Month7                                     0.121103\n",
       "Month8                                     0.102036\n",
       "Month9                                     0.108220\n",
       "Timeevening_peak                           0.123164\n",
       "Timemorning_peak                           0.079619\n",
       "Timenon_peak                               0.797217\n",
       "WEATHERBlowing.Sand.Dirt                   0.000000\n",
       "WEATHERBlowing.Snow                        0.000000\n",
       "WEATHERClear                               0.708838\n",
       "WEATHERFog.Smog.Smoke                      0.002061\n",
       "WEATHEROvercast                            0.159495\n",
       "WEATHERPartly.Cloudy                       0.001804\n",
       "WEATHERRaining                             0.120330\n",
       "WEATHERSevere.Crosswind                    0.000258\n",
       "WEATHERSleet.Hail.Freezing.Rain            0.000258\n",
       "WEATHERSnowing                             0.006957\n",
       "ROADCONDDry                                0.808039\n",
       "ROADCONDIce                                0.000773\n",
       "ROADCONDOil                                0.000000\n",
       "ROADCONDSand.Mud.Dirt                      0.000258\n",
       "ROADCONDSnow.Slush                         0.006957\n",
       "ROADCONDStanding.Water                     0.000258\n",
       "ROADCONDWet                                0.183716\n",
       "LIGHTCONDDark...No.Street.Lights           0.005669\n",
       "LIGHTCONDDark...Street.Lights.Off          0.004380\n",
       "LIGHTCONDDark...Street.Lights.On           0.233445\n",
       "LIGHTCONDDawn                              0.012110\n",
       "LIGHTCONDDaylight                          0.711930\n",
       "LIGHTCONDDusk                              0.032466\n",
       "Severity_Fatality Collision                0.000515\n",
       "Severity_Injury Collision                  0.293481\n",
       "Severity_Property Damage Only Collision    0.689513\n",
       "Severity_Serious Injury Collision          0.016491\n",
       "dtype: float64"
      ]
     },
     "execution_count": 10,
     "metadata": {},
     "output_type": "execute_result"
    }
   ],
   "source": [
    "data.sum()/len(data)"
   ]
  },
  {
   "cell_type": "code",
   "execution_count": 11,
   "id": "fe5dccf5",
   "metadata": {},
   "outputs": [
    {
     "data": {
      "text/plain": [
       "ADDRTYPEAlley                              0.004896\n",
       "ADDRTYPEBlock                              0.521257\n",
       "ADDRTYPEIntersection                       0.473847\n",
       "COLLISIONTYPEAngles                        0.603710\n",
       "COLLISIONTYPEHead.On                       0.000000\n",
       "COLLISIONTYPELeft.Turn                     0.005153\n",
       "COLLISIONTYPEParked.Car                    0.212316\n",
       "COLLISIONTYPERear.Ended                    0.129606\n",
       "COLLISIONTYPERight.Turn                    0.000000\n",
       "COLLISIONTYPESideswipe                     0.049214\n",
       "Month1                                     0.899253\n",
       "Month10                                    0.000000\n",
       "Month11                                    0.000000\n",
       "Month12                                    0.000000\n",
       "Month2                                     0.000000\n",
       "Month3                                     0.000000\n",
       "Month4                                     0.000000\n",
       "Month5                                     0.000000\n",
       "Month6                                     0.001804\n",
       "Month7                                     0.098944\n",
       "Month8                                     0.000000\n",
       "Month9                                     0.000000\n",
       "Timeevening_peak                           0.122133\n",
       "Timemorning_peak                           0.066993\n",
       "Timenon_peak                               0.810873\n",
       "WEATHERBlowing.Sand.Dirt                   0.094563\n",
       "WEATHERBlowing.Snow                        0.000000\n",
       "WEATHERClear                               0.665292\n",
       "WEATHERFog.Smog.Smoke                      0.000000\n",
       "WEATHEROvercast                            0.151250\n",
       "WEATHERPartly.Cloudy                       0.000000\n",
       "WEATHERRaining                             0.088895\n",
       "WEATHERSevere.Crosswind                    0.000000\n",
       "WEATHERSleet.Hail.Freezing.Rain            0.000000\n",
       "WEATHERSnowing                             0.000000\n",
       "ROADCONDDry                                0.802886\n",
       "ROADCONDIce                                0.000000\n",
       "ROADCONDOil                                0.000000\n",
       "ROADCONDSand.Mud.Dirt                      0.000000\n",
       "ROADCONDSnow.Slush                         0.000000\n",
       "ROADCONDStanding.Water                     0.000000\n",
       "ROADCONDWet                                0.197114\n",
       "LIGHTCONDDark...No.Street.Lights           0.072404\n",
       "LIGHTCONDDark...Street.Lights.Off          0.000000\n",
       "LIGHTCONDDark...Street.Lights.On           0.215151\n",
       "LIGHTCONDDawn                              0.000000\n",
       "LIGHTCONDDaylight                          0.711930\n",
       "LIGHTCONDDusk                              0.000515\n",
       "Severity_Fatality Collision                0.031951\n",
       "Severity_Injury Collision                  0.283690\n",
       "Severity_Property Damage Only Collision    0.684360\n",
       "Severity_Serious Injury Collision          0.000000\n",
       "dtype: float64"
      ]
     },
     "execution_count": 11,
     "metadata": {},
     "output_type": "execute_result"
    }
   ],
   "source": [
    "new_data.sum()/len(new_data)"
   ]
  },
  {
   "cell_type": "code",
   "execution_count": 12,
   "id": "01b4e65e",
   "metadata": {},
   "outputs": [
    {
     "data": {
      "text/plain": [
       "ADDRTYPEAlley                               1.111111\n",
       "ADDRTYPEBlock                              -0.064725\n",
       "ADDRTYPEIntersection                        0.076068\n",
       "COLLISIONTYPEAngles                         1.294809\n",
       "COLLISIONTYPEHead.On                       -1.000000\n",
       "COLLISIONTYPELeft.Turn                     -0.946524\n",
       "COLLISIONTYPEParked.Car                    -0.256318\n",
       "COLLISIONTYPERear.Ended                    -0.336412\n",
       "COLLISIONTYPERight.Turn                    -1.000000\n",
       "COLLISIONTYPESideswipe                     -0.582969\n",
       "Month1                                     10.633333\n",
       "Month10                                    -1.000000\n",
       "Month11                                    -1.000000\n",
       "Month12                                    -1.000000\n",
       "Month2                                     -1.000000\n",
       "Month3                                     -1.000000\n",
       "Month4                                     -1.000000\n",
       "Month5                                     -1.000000\n",
       "Month6                                     -0.984055\n",
       "Month7                                     -0.182979\n",
       "Month8                                     -1.000000\n",
       "Month9                                     -1.000000\n",
       "Timeevening_peak                           -0.008368\n",
       "Timemorning_peak                           -0.158576\n",
       "Timenon_peak                                0.017130\n",
       "WEATHERBlowing.Sand.Dirt                         inf\n",
       "WEATHERBlowing.Snow                              NaN\n",
       "WEATHERClear                               -0.061432\n",
       "WEATHERFog.Smog.Smoke                      -1.000000\n",
       "WEATHEROvercast                            -0.051696\n",
       "WEATHERPartly.Cloudy                       -1.000000\n",
       "WEATHERRaining                             -0.261242\n",
       "WEATHERSevere.Crosswind                    -1.000000\n",
       "WEATHERSleet.Hail.Freezing.Rain            -1.000000\n",
       "WEATHERSnowing                             -1.000000\n",
       "ROADCONDDry                                -0.006378\n",
       "ROADCONDIce                                -1.000000\n",
       "ROADCONDOil                                      NaN\n",
       "ROADCONDSand.Mud.Dirt                      -1.000000\n",
       "ROADCONDSnow.Slush                         -1.000000\n",
       "ROADCONDStanding.Water                     -1.000000\n",
       "ROADCONDWet                                 0.072931\n",
       "LIGHTCONDDark...No.Street.Lights           11.772727\n",
       "LIGHTCONDDark...Street.Lights.Off          -1.000000\n",
       "LIGHTCONDDark...Street.Lights.On           -0.078366\n",
       "LIGHTCONDDawn                              -1.000000\n",
       "LIGHTCONDDaylight                           0.000000\n",
       "LIGHTCONDDusk                              -0.984127\n",
       "Severity_Fatality Collision                61.000000\n",
       "Severity_Injury Collision                  -0.033363\n",
       "Severity_Property Damage Only Collision    -0.007474\n",
       "Severity_Serious Injury Collision          -1.000000\n",
       "dtype: float64"
      ]
     },
     "execution_count": 12,
     "metadata": {},
     "output_type": "execute_result"
    }
   ],
   "source": [
    "(new_data.sum()/len(new_data)-data.sum()/len(data))/(data.sum()/len(data))"
   ]
  },
  {
   "cell_type": "code",
   "execution_count": null,
   "id": "93a36725",
   "metadata": {},
   "outputs": [],
   "source": []
  }
 ],
 "metadata": {
  "kernelspec": {
   "display_name": "Python 3",
   "language": "python",
   "name": "python3"
  },
  "language_info": {
   "codemirror_mode": {
    "name": "ipython",
    "version": 3
   },
   "file_extension": ".py",
   "mimetype": "text/x-python",
   "name": "python",
   "nbconvert_exporter": "python",
   "pygments_lexer": "ipython3",
   "version": "3.6.13"
  }
 },
 "nbformat": 4,
 "nbformat_minor": 5
}
