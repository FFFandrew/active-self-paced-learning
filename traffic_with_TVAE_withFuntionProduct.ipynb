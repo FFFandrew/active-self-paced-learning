{
 "cells": [
  {
   "cell_type": "code",
   "execution_count": 1,
   "id": "68e63693",
   "metadata": {},
   "outputs": [],
   "source": [
    "from sdv.demo import load_tabular_demo\n",
    "import pandas as pd\n",
    "import numpy as np\n",
    "from sdv.tabular import TVAE\n",
    "from sdv.constraints import OneHotEncoding\n",
    "import os\n",
    "import time\n",
    "import warnings\n",
    "warnings.filterwarnings(\"ignore\")"
   ]
  },
  {
   "cell_type": "code",
   "execution_count": 4,
   "id": "343a9a9d",
   "metadata": {},
   "outputs": [],
   "source": [
    "def generate(data1,original_nums):\n",
    "    #函数接收参数num，用以抽取num条原始数据并生成相应模型和数据到  ./data/n 文件夹下\n",
    "    #  original_num 为字符串类型   \n",
    "    \n",
    "    # 1.接收并获取数据\n",
    "    num = original_nums\n",
    "    data = data1.sample(n=int(num))\n",
    "    \n",
    "    if(not os.path.exists('./data/'+num)): # path是文件夹或者文件的相对路径或者绝对路径\n",
    "        os.mkdir('./data/'+num)\n",
    "    \n",
    "    # data.shape\n",
    "    \n",
    "    \n",
    "    #这里是各种onehot的constraints\n",
    "    addr_type_constraint = OneHotEncoding(\n",
    "        column_names=['ADDRTYPEAlley','ADDRTYPEBlock','ADDRTYPEIntersection']\n",
    "    )\n",
    "\n",
    "    collision_type_constraint = OneHotEncoding(\n",
    "        column_names=['COLLISIONTYPEAngles', 'COLLISIONTYPEHead.On', 'COLLISIONTYPELeft.Turn','COLLISIONTYPEParked.Car', 'COLLISIONTYPERear.Ended', 'COLLISIONTYPERight.Turn', 'COLLISIONTYPESideswipe']\n",
    "    )\n",
    "\n",
    "    month_constraint = OneHotEncoding(\n",
    "        column_names=['Month1', 'Month10', 'Month11', 'Month12', 'Month2', 'Month3', 'Month4', 'Month5','Month6', 'Month7', 'Month8', 'Month9']\n",
    "    )\n",
    "\n",
    "    time_in_day_constraint = OneHotEncoding(\n",
    "        column_names=['Timeevening_peak','Timemorning_peak', 'Timenon_peak']\n",
    "    )\n",
    "\n",
    "    # underinf_type_constraint = OneHotEncoding(  # 不知道什么意思\n",
    "    #     column_names=['UNDERINFLN','UNDERINFLY']\n",
    "    # )\n",
    "\n",
    "    weather_condition_constraint = OneHotEncoding(\n",
    "        column_names=['WEATHERBlowing.Sand.Dirt', 'WEATHERBlowing.Snow',\n",
    "           'WEATHERClear', 'WEATHERFog.Smog.Smoke', 'WEATHEROvercast',\n",
    "           'WEATHERPartly.Cloudy', 'WEATHERRaining', 'WEATHERSevere.Crosswind',\n",
    "           'WEATHERSleet.Hail.Freezing.Rain', 'WEATHERSnowing']\n",
    "    )\n",
    "\n",
    "    road_condition_constraint = OneHotEncoding(\n",
    "        column_names=['ROADCONDDry',\n",
    "           'ROADCONDIce', 'ROADCONDOil', 'ROADCONDSand.Mud.Dirt',\n",
    "           'ROADCONDSnow.Slush', 'ROADCONDStanding.Water', 'ROADCONDWet']\n",
    "    )\n",
    "\n",
    "    light_condition_constraint = OneHotEncoding(\n",
    "        column_names=['LIGHTCONDDark...No.Street.Lights',\n",
    "           'LIGHTCONDDark...Street.Lights.Off', 'LIGHTCONDDark...Street.Lights.On',\n",
    "           'LIGHTCONDDawn', 'LIGHTCONDDaylight', 'LIGHTCONDDusk']\n",
    "    )\n",
    "\n",
    "    severity_condition_constraint = OneHotEncoding(\n",
    "        column_names=['Severity_Fatality Collision',\n",
    "           'Severity_Injury Collision', 'Severity_Property Damage Only Collision',\n",
    "           'Severity_Serious Injury Collision']\n",
    "    )\n",
    "\n",
    "    constraints = [\n",
    "        month_constraint,\n",
    "        addr_type_constraint,\n",
    "        collision_type_constraint,\n",
    "\n",
    "        time_in_day_constraint,\n",
    "    #     underinf_type_constraint,\n",
    "        weather_condition_constraint,\n",
    "        road_condition_constraint,\n",
    "        light_condition_constraint,\n",
    "        severity_condition_constraint\n",
    "    ]\n",
    "    model = TVAE(constraints=constraints, enforce_min_max_values=False)\n",
    "    # t1 = time.time()\n",
    "    model.fit(data)\n",
    "    # t2 = time.time()\n",
    "    # print('cost time = ',t2-t1)\n",
    "    model.save('./data/'+num+'/'+num+'_model.pkl')\n",
    "\n",
    "    load_model = TVAE.load('./data/'+num+'/'+num+'_model.pkl')\n",
    "    \n",
    "    data.to_csv('./data/'+num+'/'+num+'_real_data.csv')\n",
    "    generate_data_5000 = load_model.sample(num_rows=5000)\n",
    "    print(generate_data_5000.shape)\n",
    "    generate_data_5000.to_csv('./data/'+num+'/'+num+'_to_5000.csv')\n",
    "    generate_data_10000 = load_model.sample(num_rows=10000)\n",
    "    print(generate_data_10000.shape)\n",
    "    generate_data_5000.to_csv('./data/'+num+'/'+num+'_to_10000.csv')\n",
    "    generate_data_20000 = load_model.sample(num_rows=20000)\n",
    "    print(generate_data_20000.shape)\n",
    "    generate_data_5000.to_csv('./data/'+num+'/'+num+'_to_20000.csv')"
   ]
  },
  {
   "cell_type": "code",
   "execution_count": 5,
   "id": "fc2a5cbc",
   "metadata": {},
   "outputs": [
    {
     "name": "stderr",
     "output_type": "stream",
     "text": [
      "Sampling rows: 100%|████████████████████████████████████████████████████████████| 5000/5000 [00:00<00:00, 10798.96it/s]\n"
     ]
    },
    {
     "name": "stdout",
     "output_type": "stream",
     "text": [
      "(5000, 52)\n"
     ]
    },
    {
     "name": "stderr",
     "output_type": "stream",
     "text": [
      "Sampling rows: 100%|██████████████████████████████████████████████████████████| 10000/10000 [00:00<00:00, 16025.14it/s]\n"
     ]
    },
    {
     "name": "stdout",
     "output_type": "stream",
     "text": [
      "(10000, 52)\n"
     ]
    },
    {
     "name": "stderr",
     "output_type": "stream",
     "text": [
      "Sampling rows: 100%|██████████████████████████████████████████████████████████| 20000/20000 [00:00<00:00, 20432.94it/s]\n"
     ]
    },
    {
     "name": "stdout",
     "output_type": "stream",
     "text": [
      "(20000, 52)\n"
     ]
    },
    {
     "name": "stderr",
     "output_type": "stream",
     "text": [
      "Sampling rows: 100%|████████████████████████████████████████████████████████████| 5000/5000 [00:00<00:00, 11803.62it/s]\n"
     ]
    },
    {
     "name": "stdout",
     "output_type": "stream",
     "text": [
      "(5000, 52)\n"
     ]
    },
    {
     "name": "stderr",
     "output_type": "stream",
     "text": [
      "Sampling rows: 100%|██████████████████████████████████████████████████████████| 10000/10000 [00:00<00:00, 17333.70it/s]\n"
     ]
    },
    {
     "name": "stdout",
     "output_type": "stream",
     "text": [
      "(10000, 52)\n"
     ]
    },
    {
     "name": "stderr",
     "output_type": "stream",
     "text": [
      "Sampling rows: 100%|██████████████████████████████████████████████████████████| 20000/20000 [00:00<00:00, 20648.82it/s]\n"
     ]
    },
    {
     "name": "stdout",
     "output_type": "stream",
     "text": [
      "(20000, 52)\n"
     ]
    },
    {
     "name": "stderr",
     "output_type": "stream",
     "text": [
      "Sampling rows: 100%|████████████████████████████████████████████████████████████| 5000/5000 [00:00<00:00, 10856.21it/s]\n"
     ]
    },
    {
     "name": "stdout",
     "output_type": "stream",
     "text": [
      "(5000, 52)\n"
     ]
    },
    {
     "name": "stderr",
     "output_type": "stream",
     "text": [
      "Sampling rows: 100%|██████████████████████████████████████████████████████████| 10000/10000 [00:00<00:00, 16714.88it/s]\n"
     ]
    },
    {
     "name": "stdout",
     "output_type": "stream",
     "text": [
      "(10000, 52)\n"
     ]
    },
    {
     "name": "stderr",
     "output_type": "stream",
     "text": [
      "Sampling rows: 100%|██████████████████████████████████████████████████████████| 20000/20000 [00:00<00:00, 21097.11it/s]\n"
     ]
    },
    {
     "name": "stdout",
     "output_type": "stream",
     "text": [
      "(20000, 52)\n"
     ]
    },
    {
     "name": "stderr",
     "output_type": "stream",
     "text": [
      "Sampling rows: 100%|████████████████████████████████████████████████████████████| 5000/5000 [00:00<00:00, 10934.81it/s]\n"
     ]
    },
    {
     "name": "stdout",
     "output_type": "stream",
     "text": [
      "(5000, 52)\n"
     ]
    },
    {
     "name": "stderr",
     "output_type": "stream",
     "text": [
      "Sampling rows: 100%|██████████████████████████████████████████████████████████| 10000/10000 [00:00<00:00, 15797.26it/s]\n"
     ]
    },
    {
     "name": "stdout",
     "output_type": "stream",
     "text": [
      "(10000, 52)\n"
     ]
    },
    {
     "name": "stderr",
     "output_type": "stream",
     "text": [
      "Sampling rows: 100%|██████████████████████████████████████████████████████████| 20000/20000 [00:00<00:00, 20703.95it/s]\n"
     ]
    },
    {
     "name": "stdout",
     "output_type": "stream",
     "text": [
      "(20000, 52)\n"
     ]
    },
    {
     "name": "stderr",
     "output_type": "stream",
     "text": [
      "Sampling rows: 100%|████████████████████████████████████████████████████████████| 5000/5000 [00:00<00:00, 12657.37it/s]\n"
     ]
    },
    {
     "name": "stdout",
     "output_type": "stream",
     "text": [
      "(5000, 52)\n"
     ]
    },
    {
     "name": "stderr",
     "output_type": "stream",
     "text": [
      "Sampling rows: 100%|██████████████████████████████████████████████████████████| 10000/10000 [00:00<00:00, 17945.93it/s]\n"
     ]
    },
    {
     "name": "stdout",
     "output_type": "stream",
     "text": [
      "(10000, 52)\n"
     ]
    },
    {
     "name": "stderr",
     "output_type": "stream",
     "text": [
      "Sampling rows: 100%|██████████████████████████████████████████████████████████| 20000/20000 [00:00<00:00, 22461.13it/s]\n"
     ]
    },
    {
     "name": "stdout",
     "output_type": "stream",
     "text": [
      "(20000, 52)\n"
     ]
    }
   ],
   "source": [
    "# data = load_tabular_demo('student_placements')\n",
    "# data1 = pd.read_excel('Seattle_vv_21.xlsx')\n",
    "# a = pd.read_excel('Processed_Seattle_vv_21_modifiedbyFDR.xlsx',index_col=0)\n",
    "# a.to_csv('processed_seattle_vv_21.csv',encoding='utf-8')\n",
    "\n",
    "data1 = pd.read_csv('processed_seattle_vv_21.csv')\n",
    "data1 = data1.drop([\"UNDERINFLY\"],axis=1)\n",
    "data1 = data1.drop(['UNDERINFLN'],axis=1)\n",
    "data1 = pd.get_dummies(data1,columns=['Severity'],dtype=int)\n",
    "# data1.dtypes\n",
    "# data1.shape\n",
    "\n",
    "for i in range(6,11):\n",
    "    n = str(i)+'00'\n",
    "    generate(data1,n)"
   ]
  },
  {
   "cell_type": "code",
   "execution_count": null,
   "id": "e7b35d17",
   "metadata": {},
   "outputs": [],
   "source": []
  }
 ],
 "metadata": {
  "kernelspec": {
   "display_name": "Python 3",
   "language": "python",
   "name": "python3"
  },
  "language_info": {
   "codemirror_mode": {
    "name": "ipython",
    "version": 3
   },
   "file_extension": ".py",
   "mimetype": "text/x-python",
   "name": "python",
   "nbconvert_exporter": "python",
   "pygments_lexer": "ipython3",
   "version": "3.6.13"
  }
 },
 "nbformat": 4,
 "nbformat_minor": 5
}
